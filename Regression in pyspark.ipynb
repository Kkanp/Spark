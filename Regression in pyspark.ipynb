{
 "cells": [
  {
   "cell_type": "code",
   "execution_count": 3,
   "metadata": {},
   "outputs": [
    {
     "data": {
      "text/plain": [
       "DataFrame[_c0: string, _c1: string, _c2: string, _c3: string, _c4: string]"
      ]
     },
     "execution_count": 3,
     "metadata": {},
     "output_type": "execute_result"
    }
   ],
   "source": [
    "import pyspark\n",
    "from pyspark.sql import SparkSession\n",
    "from pyspark.ml.regression import LinearRegression\n",
    "\n",
    "spark = SparkSession \\\n",
    "    .builder \\\n",
    "    .appName(\"Regression in PySpark\") \\\n",
    "    .getOrCreate()\n",
    "\n",
    "pp_df = spark.read.csv(\"/Users/kanp/Other Coding/Spark/LinkedIn_SparkforML/CCPP/power_plant.csv\")\n",
    "pp_df"
   ]
  },
  {
   "cell_type": "code",
   "execution_count": 4,
   "metadata": {},
   "outputs": [
    {
     "data": {
      "text/plain": [
       "DataFrame[AT: double, V: double, AP: double, RH: double, PE: double]"
      ]
     },
     "execution_count": 4,
     "metadata": {},
     "output_type": "execute_result"
    }
   ],
   "source": [
    "pp_df = spark.read.csv(\"/Users/kanp/Other Coding/Spark/LinkedIn_SparkforML/CCPP/power_plant.csv\"\n",
    "                       ,header=True\n",
    "                       ,inferSchema=True)\n",
    "pp_df"
   ]
  },
  {
   "cell_type": "code",
   "execution_count": 5,
   "metadata": {},
   "outputs": [
    {
     "data": {
      "text/plain": [
       "[Row(AT=14.96, V=41.76, AP=1024.07, RH=73.17, PE=463.26, features=DenseVector([14.96, 41.76, 1024.07, 73.17]))]"
      ]
     },
     "execution_count": 5,
     "metadata": {},
     "output_type": "execute_result"
    }
   ],
   "source": [
    "from pyspark.ml.feature import VectorAssembler\n",
    "vectorAssembler = VectorAssembler(inputCols=[\"AT\",\"V\",\"AP\",\"RH\"],outputCol=\"features\")\n",
    "vpp_df = vectorAssembler.transform(pp_df)\n",
    "vpp_df.take(1)"
   ]
  },
  {
   "cell_type": "code",
   "execution_count": 7,
   "metadata": {},
   "outputs": [
    {
     "data": {
      "text/plain": [
       "DenseVector([-1.9775, -0.2339, 0.0621, -0.1581])"
      ]
     },
     "execution_count": 7,
     "metadata": {},
     "output_type": "execute_result"
    }
   ],
   "source": [
    "#Linear regression\n",
    "lr = LinearRegression(featuresCol=\"features\",labelCol=\"PE\")\n",
    "lr_model = lr.fit(vpp_df)\n",
    "lr_model.coefficients"
   ]
  },
  {
   "cell_type": "code",
   "execution_count": 8,
   "metadata": {},
   "outputs": [
    {
     "data": {
      "text/plain": [
       "454.6092744523414"
      ]
     },
     "execution_count": 8,
     "metadata": {},
     "output_type": "execute_result"
    }
   ],
   "source": [
    "lr_model.intercept"
   ]
  },
  {
   "cell_type": "code",
   "execution_count": 10,
   "metadata": {},
   "outputs": [
    {
     "data": {
      "text/plain": [
       "4.557126016749488"
      ]
     },
     "execution_count": 10,
     "metadata": {},
     "output_type": "execute_result"
    }
   ],
   "source": [
    "lr_model.summary.rootMeanSquaredError"
   ]
  },
  {
   "cell_type": "code",
   "execution_count": 11,
   "metadata": {},
   "outputs": [],
   "source": [
    "lr_model.save(\"lr1.model\")"
   ]
  },
  {
   "cell_type": "code",
   "execution_count": 15,
   "metadata": {},
   "outputs": [
    {
     "data": {
      "text/plain": [
       "9568"
      ]
     },
     "execution_count": 15,
     "metadata": {},
     "output_type": "execute_result"
    }
   ],
   "source": [
    "#Decision tree regression\n",
    "from pyspark.ml.regression import DecisionTreeRegressor\n",
    "from pyspark.ml.evaluation import RegressionEvaluator\n",
    "\n",
    "splits = vpp_df.randomSplit([0.7,0.3])\n",
    "train_df = splits[0]\n",
    "test_df = splits[1]\n",
    "train_df.count()\n",
    "test_df.count()\n",
    "vpp_df.count()"
   ]
  },
  {
   "cell_type": "code",
   "execution_count": 18,
   "metadata": {},
   "outputs": [
    {
     "name": "stdout",
     "output_type": "stream",
     "text": [
      "+----+-----+-------+-----+------+--------------------+-----------------+\n",
      "|  AT|    V|     AP|   RH|    PE|            features|       prediction|\n",
      "+----+-----+-------+-----+------+--------------------+-----------------+\n",
      "|2.34|39.42|1028.47|69.68|490.34|[2.34,39.42,1028....|487.2847826086957|\n",
      "|2.64|39.64|1011.02|85.24|481.29|[2.64,39.64,1011....|487.2847826086957|\n",
      "| 3.4|39.64| 1011.1|83.43|459.86|[3.4,39.64,1011.1...|487.2847826086957|\n",
      "|3.63|38.44|1016.16|87.38|487.87|[3.63,38.44,1016....|487.2847826086957|\n",
      "| 4.0| 39.9|1008.46|97.21|490.68|[4.0,39.9,1008.46...|487.2847826086957|\n",
      "|4.04|35.47|1017.51|87.35|486.86|[4.04,35.47,1017....|487.2847826086957|\n",
      "|4.16|35.47|1017.72|88.49| 486.7|[4.16,35.47,1017....|487.2847826086957|\n",
      "|4.32|35.47| 1017.8|88.51|488.03|[4.32,35.47,1017....|487.2847826086957|\n",
      "|4.47|35.19|1018.78|92.68|487.43|[4.47,35.19,1018....|487.2847826086957|\n",
      "|4.56|40.27|1011.13|80.24|493.87|[4.56,40.27,1011....|487.2847826086957|\n",
      "|4.61|40.27|1012.32|77.28|492.85|[4.61,40.27,1012....|487.2847826086957|\n",
      "|4.71|39.42| 1026.4|84.42|481.28|[4.71,39.42,1026....|487.2847826086957|\n",
      "|4.71|42.07|1005.35|82.26|486.79|[4.71,42.07,1005....|487.2847826086957|\n",
      "|4.78|42.85|1013.39|93.36|481.47|[4.78,42.85,1013....|481.7104000000004|\n",
      "|4.86| 39.4|1012.73|91.39|488.63|[4.86,39.4,1012.7...|487.2847826086957|\n",
      "|4.87|42.85| 1013.6| 92.3|482.22|[4.87,42.85,1013....|481.7104000000004|\n",
      "|4.93|38.44|1015.65|71.47|485.01|[4.93,38.44,1015....|487.2847826086957|\n",
      "|4.95|42.07|1004.87|80.88|485.67|[4.95,42.07,1004....|487.2847826086957|\n",
      "|4.96| 39.4|1003.58|92.22|486.09|[4.96,39.4,1003.5...|487.2847826086957|\n",
      "|4.96|45.87|1007.32|98.78|481.88|[4.96,45.87,1007....|481.7104000000004|\n",
      "+----+-----+-------+-----+------+--------------------+-----------------+\n",
      "only showing top 20 rows\n",
      "\n"
     ]
    }
   ],
   "source": [
    "dt = DecisionTreeRegressor(featuresCol=\"features\",labelCol=\"PE\")\n",
    "dt_model = dt.fit(train_df)\n",
    "dt_predictions = dt_model.transform(test_df)\n",
    "dt_predictions.show()"
   ]
  },
  {
   "cell_type": "code",
   "execution_count": 20,
   "metadata": {},
   "outputs": [
    {
     "data": {
      "text/plain": [
       "4.462616881290915"
      ]
     },
     "execution_count": 20,
     "metadata": {},
     "output_type": "execute_result"
    }
   ],
   "source": [
    "dt_evaluator = RegressionEvaluator(labelCol=\"PE\",predictionCol=\"prediction\",metricName=\"rmse\")\n",
    "rmse = dt_evaluator.evaluate(dt_predictions)\n",
    "rmse"
   ]
  },
  {
   "cell_type": "code",
   "execution_count": 21,
   "metadata": {},
   "outputs": [
    {
     "name": "stdout",
     "output_type": "stream",
     "text": [
      "+----+-----+-------+-----+------+--------------------+------------------+\n",
      "|  AT|    V|     AP|   RH|    PE|            features|        prediction|\n",
      "+----+-----+-------+-----+------+--------------------+------------------+\n",
      "|2.34|39.42|1028.47|69.68|490.34|[2.34,39.42,1028....|486.72025037114895|\n",
      "|2.64|39.64|1011.02|85.24|481.29|[2.64,39.64,1011....| 488.6760539996318|\n",
      "| 3.4|39.64| 1011.1|83.43|459.86|[3.4,39.64,1011.1...|488.58321214975587|\n",
      "|3.63|38.44|1016.16|87.38|487.87|[3.63,38.44,1016....|  488.401765462889|\n",
      "| 4.0| 39.9|1008.46|97.21|490.68|[4.0,39.9,1008.46...| 488.6068085945434|\n",
      "|4.04|35.47|1017.51|87.35|486.86|[4.04,35.47,1017....|487.59638617706605|\n",
      "|4.16|35.47|1017.72|88.49| 486.7|[4.16,35.47,1017....|487.59638617706605|\n",
      "|4.32|35.47| 1017.8|88.51|488.03|[4.32,35.47,1017....|487.59638617706605|\n",
      "|4.47|35.19|1018.78|92.68|487.43|[4.47,35.19,1018....|487.59638617706605|\n",
      "|4.56|40.27|1011.13|80.24|493.87|[4.56,40.27,1011....|488.34054418154017|\n",
      "|4.61|40.27|1012.32|77.28|492.85|[4.61,40.27,1012....| 488.4415836273549|\n",
      "|4.71|39.42| 1026.4|84.42|481.28|[4.71,39.42,1026....| 486.0221847482259|\n",
      "|4.71|42.07|1005.35|82.26|486.79|[4.71,42.07,1005....| 488.0125767238594|\n",
      "|4.78|42.85|1013.39|93.36|481.47|[4.78,42.85,1013....|  482.464547064056|\n",
      "|4.86| 39.4|1012.73|91.39|488.63|[4.86,39.4,1012.7...| 488.8111720072142|\n",
      "|4.87|42.85| 1013.6| 92.3|482.22|[4.87,42.85,1013....|  482.464547064056|\n",
      "|4.93|38.44|1015.65|71.47|485.01|[4.93,38.44,1015....|488.22378637232214|\n",
      "|4.95|42.07|1004.87|80.88|485.67|[4.95,42.07,1004....| 488.0125767238594|\n",
      "|4.96| 39.4|1003.58|92.22|486.09|[4.96,39.4,1003.5...|485.99128649085014|\n",
      "|4.96|45.87|1007.32|98.78|481.88|[4.96,45.87,1007....| 481.2431511708786|\n",
      "+----+-----+-------+-----+------+--------------------+------------------+\n",
      "only showing top 20 rows\n",
      "\n"
     ]
    }
   ],
   "source": [
    "#GBT\n",
    "from pyspark.ml.regression import GBTRegressor\n",
    "gbt = GBTRegressor(featuresCol=\"features\",labelCol=\"PE\")\n",
    "gbt_model = gbt.fit(train_df)\n",
    "gbt_prediction = gbt_model.transform(test_df)\n",
    "gbt_prediction.show()"
   ]
  },
  {
   "cell_type": "code",
   "execution_count": 22,
   "metadata": {},
   "outputs": [
    {
     "data": {
      "text/plain": [
       "4.02026427710849"
      ]
     },
     "execution_count": 22,
     "metadata": {},
     "output_type": "execute_result"
    }
   ],
   "source": [
    "gbt_evaluator = RegressionEvaluator(labelCol=\"PE\",predictionCol=\"prediction\",metricName=\"rmse\")\n",
    "gbt_rmse = gbt_evaluator.evaluate(gbt_prediction)\n",
    "gbt_rmse"
   ]
  }
 ],
 "metadata": {
  "kernelspec": {
   "display_name": "Python 3",
   "language": "python",
   "name": "python3"
  },
  "language_info": {
   "codemirror_mode": {
    "name": "ipython",
    "version": 3
   },
   "file_extension": ".py",
   "mimetype": "text/x-python",
   "name": "python",
   "nbconvert_exporter": "python",
   "pygments_lexer": "ipython3",
   "version": "3.7.4"
  }
 },
 "nbformat": 4,
 "nbformat_minor": 2
}
